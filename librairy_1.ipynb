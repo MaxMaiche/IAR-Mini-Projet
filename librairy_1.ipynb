{
 "cells": [
  {
   "cell_type": "markdown",
   "metadata": {},
   "source": [
    "\n",
    "# TIANSHOU"
   ]
  },
  {
   "cell_type": "code",
   "execution_count": null,
   "metadata": {},
   "outputs": [],
   "source": [
    "import gymnasium as gym\n",
    "import tianshou as ts\n",
    "\n",
    "env = gym.make(\"LunarLanderContinuous-v2\")\n",
    "train_envs = gym.make(\"LunarLanderContinuous-v2\")\n",
    "test_envs = gym.make(\"LunarLanderContinuous-v2\")\n",
    "\n"
   ]
  },
  {
   "cell_type": "code",
   "execution_count": null,
   "metadata": {},
   "outputs": [],
   "source": [
    "import torch\n",
    "from elegantrl.run import train_and_evaluate\n",
    "from elegantrl.config import Arguments\n",
    "from elegantrl.train.config import build_env\n",
    "from elegantrl.agents.AgentTD3 import AgentTD3\n",
    "\n",
    "# train and save\n",
    "args = Arguments(env=build_env('Pendulum-v0'), agent=AgentTD3())\n",
    "args.cwd = 'demo_Pendulum_TD3'\n",
    "args.env.target_return = -200\n",
    "args.reward_scale = 2 ** -2\n",
    "train_and_evaluate(args)\n",
    "\n",
    "# test\n",
    "agent = AgentTD3()\n",
    "agent.init(args.net_dim, args.state_dim, args.action_dim)\n",
    "agent.save_or_load_agent(cwd=args.cwd, if_save=False)\n",
    "\n",
    "env = build_env('Pendulum-v0')\n",
    "state = env.reset()\n",
    "episode_reward = 0\n",
    "for i in range(2 ** 10):\n",
    "    action = agent.select_action(state)\n",
    "    next_state, reward, done, _ = env.step(action)\n",
    "\n",
    "    episode_reward += reward\n",
    "    if done:\n",
    "        print(f'Step {i:>6}, Episode return {episode_reward:8.3f}')\n",
    "        break\n",
    "    else:\n",
    "        state = next_state\n",
    "    env.render()"
   ]
  }
 ],
 "metadata": {
  "language_info": {
   "name": "python"
  }
 },
 "nbformat": 4,
 "nbformat_minor": 2
}
