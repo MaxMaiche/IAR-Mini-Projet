{
 "cells": [
  {
   "cell_type": "code",
   "execution_count": 12,
   "metadata": {},
   "outputs": [],
   "source": [
    "import gymnasium as gym\n",
    "env = gym.make(\"LunarLander-v2\", continuous = False,\n",
    "    gravity = -10.0,\n",
    "    enable_wind = False,\n",
    "    wind_power = 15.0,\n",
    "    turbulence_power = 1.5,\n",
    ")"
   ]
  },
  {
   "cell_type": "code",
   "execution_count": 13,
   "metadata": {},
   "outputs": [],
   "source": [
    "# Réinitialiser l'environnement pour commencer un nouvel épisode\n",
    "obs = env.reset()\n",
    "\n",
    "done = False\n",
    "\n",
    "while not done:\n",
    "    # Afficher l'environnement\n",
    "    env.render()  # Utilise la fenêtre de rendu de Gym\n",
    "    \n",
    "    # Générer une action aléatoire (vous pouvez remplacer par votre propre agent)\n",
    "    action = env.action_space.sample()\n",
    "\n",
    "    # Appliquer l'action dans l'environnement\n",
    "    obs, reward, done, info, _ = env.step(action)\n",
    "\n",
    "# Fermer l'environnement\n",
    "env.close()"
   ]
  }
 ],
 "metadata": {
  "kernelspec": {
   "display_name": "Python 3",
   "language": "python",
   "name": "python3"
  },
  "language_info": {
   "codemirror_mode": {
    "name": "ipython",
    "version": 3
   },
   "file_extension": ".py",
   "mimetype": "text/x-python",
   "name": "python",
   "nbconvert_exporter": "python",
   "pygments_lexer": "ipython3",
   "version": "3.10.10"
  }
 },
 "nbformat": 4,
 "nbformat_minor": 2
}
